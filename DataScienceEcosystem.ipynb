{
 "cells": [
  {
   "cell_type": "markdown",
   "id": "216b9f53-8c4c-4620-8935-e9208bc472f1",
   "metadata": {},
   "source": [
    "# Data Science Tools and Ecosystem"
   ]
  },
  {
   "cell_type": "markdown",
   "id": "0e2a426f-672c-4a3e-9e26-cc6be4d212c5",
   "metadata": {},
   "source": [
    "In this notebook, Data Science Tools and Ecosystem are summarized."
   ]
  },
  {
   "cell_type": "markdown",
   "id": "315633df-97bc-4ce2-82d8-0fe901a786a5",
   "metadata": {},
   "source": [
    "Some of the popular languages that Data Scientists use are:\n",
    "\n",
    "1.  R\n",
    "2.  Python\n",
    "3.  Julia\n",
    "4.  Scala"
   ]
  },
  {
   "cell_type": "markdown",
   "id": "4ecd1134-33ad-467f-b00e-0db321655d1f",
   "metadata": {},
   "source": [
    "**Objectives**\n",
    "\n",
    "- Exercise 1: Create a Jupyter Notebook\n",
    "- Exercise 2: Create markdown cell with title of the notebook\n",
    "- Exercise 3 - Create a markdown cell for an introduction\n",
    "- Exercise 4 - Create a markdown cell to list data science languages"
   ]
  },
  {
   "cell_type": "markdown",
   "id": "c0368e61-4244-43fb-919d-2d978991342f",
   "metadata": {},
   "source": [
    "Some of the commonly used libraries used by Data Scientists include:\n",
    "\n",
    "1. Pandas\n",
    "2. Polars\n",
    "3. Sci-Kit Learn\n",
    "4. GGPlot"
   ]
  },
  {
   "cell_type": "markdown",
   "id": "92b2f8c9-5798-4392-a9bf-e399fb3071a2",
   "metadata": {},
   "source": [
    "| Data Science Tools  |\n",
    "|---|\n",
    "| Jupyter Notebook / JupyterLab  |\n",
    "| R Studio  |\n",
    "| Apache Zeppelin  |"
   ]
  },
  {
   "cell_type": "markdown",
   "id": "5a8ad15f-798b-4b5b-90de-bf131cb1b24e",
   "metadata": {},
   "source": [
    "### Below are a few examples of evaluating arithmetic expressions in Python.\n"
   ]
  },
  {
   "cell_type": "code",
   "execution_count": 14,
   "id": "9ffd06ac-0283-4ab1-aa90-703eb3db93fd",
   "metadata": {},
   "outputs": [
    {
     "data": {
      "text/plain": [
       "17"
      ]
     },
     "execution_count": 14,
     "metadata": {},
     "output_type": "execute_result"
    }
   ],
   "source": [
    "# This a simple arithmetic expression to mutiply then add integers\n",
    "(3*4)+5"
   ]
  },
  {
   "cell_type": "code",
   "execution_count": 16,
   "id": "dcbf3e54-3d33-4b5a-94a3-e56a05aca3a2",
   "metadata": {},
   "outputs": [
    {
     "data": {
      "text/plain": [
       "3.3333333333333335"
      ]
     },
     "execution_count": 16,
     "metadata": {},
     "output_type": "execute_result"
    }
   ],
   "source": [
    "# This will convert 200 minutes to hours by diving by 60 \n",
    "200/60"
   ]
  },
  {
   "cell_type": "markdown",
   "id": "901cb5bd-8615-430b-837c-bbd00f584f50",
   "metadata": {},
   "source": [
    "## Author\n",
    "Víctor Agulló"
   ]
  }
 ],
 "metadata": {
  "kernelspec": {
   "display_name": "Python 3 (ipykernel)",
   "language": "python",
   "name": "python3"
  },
  "language_info": {
   "codemirror_mode": {
    "name": "ipython",
    "version": 3
   },
   "file_extension": ".py",
   "mimetype": "text/x-python",
   "name": "python",
   "nbconvert_exporter": "python",
   "pygments_lexer": "ipython3",
   "version": "3.11.9"
  }
 },
 "nbformat": 4,
 "nbformat_minor": 5
}
